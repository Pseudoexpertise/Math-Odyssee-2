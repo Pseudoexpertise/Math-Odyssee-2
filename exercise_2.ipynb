{
 "cells": [
  {
   "cell_type": "markdown",
   "id": "70868d45",
   "metadata": {},
   "source": [
    "# <h1 style=\"text-align: center\">Back to the Roots</h1>"
   ]
  },
  {
   "cell_type": "markdown",
   "id": "ac79b37d",
   "metadata": {},
   "source": [
    "The following exercises have to be implemented in Julia code!\n",
    "\n",
    "### Rats\n",
    "\n",
    "Your exercise is to model the algebraic structure of rational numbers. For that, rational numbers are seen as pairs of integers. More specifically:\n",
    "\n",
    "a) Create the data type `Rat` that contains two fields, each being integers. Give the first one the name *num* and the second one the name *den*.\\\n",
    "b) Overload the operators `+` and `*` such that `Rat(a, b) + Rat(c, d) == Rat(a*d + b*c, b*d)` and `Rat(a, b)*Rat(c,d) == Rat(a*c, b*d)`.\\\n",
    "c) Give `Rat` a type constructor that, when given `Rat(a, b)`, returns `Rat(p, q)`, where $a⋅q = p⋅b$ and $gcd(p, q) = 1, q > 0$ and when given any integer `i`, the constructor `Rat(i)` returns `Rat(i, 1)`.\n",
    "\n",
    "### Roots\n",
    "\n",
    "Your exercise is to model the algebraic structure of nested roots. For that, nested roots $a$ are seen as collections of triplets $k, e, r$, where `[k, e, r]` stands for $k⋅\\sqrt[e]{r}$ and $a$ is the sum of all these triplets.\n",
    "\n",
    "a) Create the data type `Root` that contains one field, being an array. Each element is an array `[k, e, r]`, where the first entry is a Rat, the second is a positive integer and the third is a rat or a root.\\\n",
    "b) Give `Root` a type constructor such that `Root(a) == Root([a, 1, 1])`.\\\n",
    "c) Extend the type constructor such that when given a list `l` for each `m_1,...m_n ∊ l` with `m_1[2] == m_2[2],...` and `m_1[3] == m_2[3],..`, it reduces it to a single element `m` with `m[2] == m_1[2]`, `m[3] == m_1[3]` and `m[1] == m_1[1] + m_2[1] + ...`. So in the end, no entries with the same two last elements will exist.\\\n",
    "d) Extend the type constructor of `Root` such that the conditions in *b)* and *c)* will still be satisfied while also all elements of the kind `[k, e, r]`, seen as $k⋅\\sqrt[e]{r}$ get reduced to a form $\\tilde{k}⋅\\sqrt[\\tilde{e}]{\\tilde{r}}$  with $k⋅\\sqrt[e]{r} = \\tilde{k}⋅\\sqrt[\\tilde{e}]{\\tilde{r}}$, where $\\tilde{e}$ is the smallest natural number such that this relation exists.\\\n",
    "e) Overload the operators `+` and `*` according to the model.\n",
    "\n",
    "### Fracs\n",
    "\n",
    "Your exercise is now to model any kind of algeraic expression of sums, products, fractions and nested roots. For that:\n",
    "\n",
    "a) Create the data type `Frac` that contains two fields which both are of the type root.\\\n",
    "b) Give `Frac` a type constructor that converts any int and rat in the intended way.\\\n",
    "c) Overload the operators `+` and `*` in the inteded way.\n",
    "\n",
    "### Pols\n",
    "\n",
    "a) Create the data type `Pol` which has one field which is an array of integers such that `Pol([a, b, c,...])` represents the polynomial $a + bx + cx^2 + ...$.\\\n",
    "b) Write a function that takes an array of polynomials as an input that returns an array such that the n-th entry in the array contains an array of the roots of the n-th polynomial. Each root must be of type `Frac`. For any polynomial the function was not able to find a root for it shall instead return `none` for that index of the array.\n",
    "\n",
    "### Extras\n",
    "\n",
    "Implementing behaviour for the given data strutures can that is not explicitly mentioned but in the spirit of the exercises and its immediate applications will likely results in an improvement of your score.\\\n",
    "The same is true for prints and visualisations.\n",
    "\n",
    "\n"
   ]
  }
 ],
 "metadata": {
  "kernelspec": {
   "display_name": "Julia 1.9.3",
   "language": "julia",
   "name": "julia-1.9"
  },
  "language_info": {
   "file_extension": ".jl",
   "mimetype": "application/julia",
   "name": "julia",
   "version": "1.9.3"
  }
 },
 "nbformat": 4,
 "nbformat_minor": 5
}
