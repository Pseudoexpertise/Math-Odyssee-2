{
 "cells": [
  {
   "cell_type": "markdown",
   "id": "b46b653a",
   "metadata": {},
   "source": [
    "# <h1 style=\"text-align: center\">Evaluation</h1>"
   ]
  },
  {
   "cell_type": "markdown",
   "id": "50d7c2fe",
   "metadata": {},
   "source": [
    "<table style=\"border: none; border-collapse: collapse;\">\n",
    "<tr style=\"border: none;\">\n",
    "<td style=\"border: none; padding: 10px; vertical-align: top;\">\n",
    "\n",
    "**Slender Map**  \n",
    "<table style=\"border: 1px solid black; border-collapse: collapse;\">\n",
    "  <tr><td>Finding a working method</td><td align=\"right\">20</td></tr>\n",
    "  <tr><td>Solving with working method</td><td align=\"right\">20</td></tr>\n",
    "  <tr><td>Finding a good representation</td><td align=\"right\">20</td></tr>\n",
    "  <tr><td>Clean work</td><td align=\"right\">40</td></tr>\n",
    "</table>\n",
    "</td>\n",
    "\n",
    "<td style=\"border: none; padding: 10px; vertical-align: top;\">\n",
    "\n",
    "**Sussy Donbassy**  \n",
    "<table style=\"border: 1px solid black; border-collapse: collapse;\">\n",
    "  <tr><td>Correctly hypotethizing the kind of encryption</td><td align=\"right\">30</td></tr>\n",
    "  <tr><td>Decrypting</td><td align=\"right\">30</td></tr>\n",
    "  <tr><td>Clean work</td><td align=\"right\">40</td></tr>\n",
    "</table>\n",
    "</td>\n",
    "\n",
    "<td style=\"border: none; padding: 10px; vertical-align: top;\">\n",
    "\n",
    "**Back to the roots**  \n",
    "<table style=\"border: 1px solid black; border-collapse: collapse;\">\n",
    "  <tr><td>Rats</td><td align=\"right\">3+4+3</td></tr>\n",
    "  <tr><td>Roots</td><td align=\"right\">2+2+8+8</td></tr>\n",
    "  <tr><td>Fracs</td><td align=\"right\">1+2+7</td></tr>\n",
    "  <tr><td>Pols</td><td align=\"right\">1+59</td></tr>\n",
    "  <tr><td>Extra</td><td align=\"right\">?</td></tr>\n",
    "</table>\n",
    "</td>\n",
    "</tr>\n",
    "</table>"
   ]
  }
 ],
 "metadata": {
  "language_info": {
   "name": "python"
  }
 },
 "nbformat": 4,
 "nbformat_minor": 5
}
