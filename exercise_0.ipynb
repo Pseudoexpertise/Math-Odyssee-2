{
 "cells": [
  {
   "cell_type": "markdown",
   "id": "f83f0605",
   "metadata": {},
   "source": [
    "# <h1 style=\"text-align: center\">Slender Maps</h1>"
   ]
  },
  {
   "cell_type": "markdown",
   "id": "10c1c8c4",
   "metadata": {},
   "source": [
    "Find an explicit solution for the following quadratic system of recurrence relations\n",
    "\n",
    "\n",
    "\\begin{align*}\n",
    "\\scriptsize a_n  &\\scriptsize = &\\scriptsize 14a_{n-1}^2 &\\scriptsize - \\scriptsize 1 &\\scriptsize 8a_{n-1}b_{n-1} &\\scriptsize \\scriptsize + &\\scriptsize 0 &\\scriptsize \\scriptsize+ \\scriptsize 2&\\scriptsize 7a_{n-1}d_{n-1} &\\scriptsize - \\scriptsize 1&\\scriptsize 8b_{n-1}c_{n-1} &\\scriptsize - \\scriptsize 4&\\scriptsize 5b_{n-1}d_{n-1} &\\scriptsize - \\scriptsize 1&\\scriptsize 4c_{n-1}^2 &\\scriptsize \\scriptsize - \\scriptsize 4 &\\scriptsize 3c_{n-1}d_{n-1} &\\scriptsize - &\\scriptsize 20d_{n-1}^2\\\\\n",
    "\\scriptsize b_n &\\scriptsize = &\\scriptsize 8a_{n-1}^2 &\\scriptsize - &\\scriptsize 8a_{n-1}b_{n-1} &\\scriptsize + &\\scriptsize 2a_{n-1}c_{n-1} &\\scriptsize + \\scriptsize 2&\\scriptsize 0a_{n-1}d_{n-1} &\\scriptsize - &\\scriptsize 8b_{n-1}c_{n-1} &\\scriptsize - \\scriptsize 2&\\scriptsize 0b_{n-1}d_{n-1} &\\scriptsize - &\\scriptsize 6c_{n-1}^2 &\\scriptsize - \\scriptsize 1&\\scriptsize 5c_{n-1}d_{n-1} &\\scriptsize + &\\scriptsize 0\\\\\n",
    "\\scriptsize c_n &\\scriptsize = &\\scriptsize 8a_{n-1}^2 &\\scriptsize - \\scriptsize 1&\\scriptsize 2a_{n-1}b_{n-1} &\\scriptsize + &\\scriptsize 4a_{n-1}c_{n-1} &\\scriptsize + \\scriptsize 1&\\scriptsize 8a_{n-1}d_{n-1} &\\scriptsize - \\scriptsize 1&\\scriptsize 2b_{n-1}c_{n-1} &\\scriptsize - \\scriptsize 3&\\scriptsize 0b_{n-1}d_{n-1} &\\scriptsize - &\\scriptsize 4c_{n-1}^2 &\\scriptsize - \\scriptsize 1&\\scriptsize 2c_{n-1}d_{n-1} &\\scriptsize - &\\scriptsize 5d_{n-1}^2\\\\\n",
    "\\scriptsize d_n &\\scriptsize = \\scriptsize -&\\scriptsize 8a_{n-1}^2 &\\scriptsize + \\scriptsize 1&\\scriptsize 2a_{n-1}b_{n-1} &\\scriptsize + &\\scriptsize 0 &\\scriptsize - \\scriptsize 1&\\scriptsize 4a_{n-1}d_{n-1} &\\scriptsize + \\scriptsize 1&\\scriptsize 2b_{n-1}c_{n-1} &\\scriptsize + \\scriptsize 3&\\scriptsize 0b_{n-1}d_{n-1} &\\scriptsize + &\\scriptsize 8c_{n-1}^2 &\\scriptsize + \\scriptsize 2&\\scriptsize 6c_{n-1}d_{n-1} &\\scriptsize + &\\scriptsize 15d_{n-1}^2\\\\\n",
    "\\end{align*}\n",
    "\n",
    "\n",
    "\n",
    "where $a_0 = 1, b_0 = 2, c_0 = 3, d_0 = 4$."
   ]
  }
 ],
 "metadata": {
  "kernelspec": {
   "display_name": "Python 3",
   "language": "python",
   "name": "python3"
  },
  "language_info": {
   "codemirror_mode": {
    "name": "ipython",
    "version": 3
   },
   "file_extension": ".py",
   "mimetype": "text/x-python",
   "name": "python",
   "nbconvert_exporter": "python",
   "pygments_lexer": "ipython3",
   "version": "3.12.3"
  }
 },
 "nbformat": 4,
 "nbformat_minor": 5
}
