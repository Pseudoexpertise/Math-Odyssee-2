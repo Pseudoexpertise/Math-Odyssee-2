{
 "cells": [
  {
   "cell_type": "markdown",
   "id": "f83f0605",
   "metadata": {},
   "source": [
    "# <h1 style=\"text-align: center\">Slender Maps</h1>"
   ]
  },
  {
   "cell_type": "markdown",
   "id": "10c1c8c4",
   "metadata": {},
   "source": [
    "Find an explicit solution for the following quadratic system of recurrence relations\n",
    "\n",
    "\n",
    "\\begin{align*}\n",
    "\\tiny a_n&\\tiny =&\\tiny 14a_{n-1}^2&\\tiny - \\tiny 1&\\tiny 8a_{n-1}b_{n-1}&\\tiny +&\\tiny 0&\\tiny +\\tiny 2&\\tiny 7a_{n-1}d_{n-1}&\\tiny -\\tiny 1&\\tiny 8b_{n-1}c_{n-1}&\\tiny -\\tiny 4&\\tiny 5b_{n-1}d_{n-1}&\\tiny -\\tiny 1&\\tiny 4c_{n-1}^2&\\tiny -\\tiny 4&\\tiny 3c_{n-1}d_{n-1}&\\tiny -&\\tiny 20d_{n-1}^2\\\\\n",
    "\\tiny b_n&\\tiny =&\\tiny 8a_{n-1}^2&\\tiny -&\\tiny 8a_{n-1}b_{n-1}&\\tiny +&\\tiny 2a_{n-1}c_{n-1}&\\tiny +\\tiny 2&\\tiny 0a_{n-1}d_{n-1}&\\tiny -&\\tiny 8b_{n-1}c_{n-1} &\\tiny -\\tiny 2&\\tiny 0b_{n-1}d_{n-1}&\\tiny -&\\tiny 6c_{n-1}^2&\\tiny -\\tiny 1&\\tiny 5c_{n-1}d_{n-1}&\\tiny +&\\tiny 0\\\\\n",
    "\\tiny c_n&\\tiny =&\\tiny 8a_{n-1}^2&\\tiny -\\tiny 1&\\tiny 2a_{n-1}b_{n-1}&\\tiny +&\\tiny 4a_{n-1}c_{n-1}&\\tiny +\\tiny 1&\\tiny 8a_{n-1}d_{n-1}&\\tiny -\\tiny 1&\\tiny 2b_{n-1}c_{n-1}&\\tiny -\\tiny 3&\\tiny 0b_{n-1}d_{n-1}&\\tiny -&\\tiny 4c_{n-1}^2&\\tiny -\\tiny 1&\\tiny 2c_{n-1}d_{n-1}&\\tiny -&\\tiny 5d_{n-1}^2\\\\\n",
    "\\tiny d_n&\\tiny =\\tiny -&\\tiny 8a_{n-1}^2&\\tiny +\\tiny 1&\\tiny 2a_{n-1}b_{n-1}&\\tiny +&\\tiny 0&\\tiny -\\tiny 1&\\tiny 4a_{n-1}d_{n-1}&\\tiny +\\tiny 1&\\tiny 2b_{n-1}c_{n-1}&\\tiny +\\tiny 3&\\tiny 0b_{n-1}d_{n-1}&\\tiny +&\\tiny 8c_{n-1}^2&\\tiny +\\tiny 2&\\tiny 6c_{n-1}d_{n-1}&\\tiny +&\\tiny 15d_{n-1}^2\\\\\n",
    "\\end{align*}\n",
    "\n",
    "\n",
    "\n",
    "where $a_0 = 1, b_0 = 2, c_0 = 3, d_0 = 4$."
   ]
  }
 ],
 "metadata": {
  "kernelspec": {
   "display_name": "Python 3",
   "language": "python",
   "name": "python3"
  },
  "language_info": {
   "codemirror_mode": {
    "name": "ipython",
    "version": 3
   },
   "file_extension": ".py",
   "mimetype": "text/x-python",
   "name": "python",
   "nbconvert_exporter": "python",
   "pygments_lexer": "ipython3",
   "version": "3.12.3"
  }
 },
 "nbformat": 4,
 "nbformat_minor": 5
}
