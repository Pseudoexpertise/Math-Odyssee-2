{
 "cells": [
  {
   "cell_type": "markdown",
   "id": "f83f0605",
   "metadata": {},
   "source": [
    "# <h1 style=\"text-align: center\">Slender Maps</h1>"
   ]
  },
  {
   "cell_type": "markdown",
   "id": "10c1c8c4",
   "metadata": {},
   "source": [
    "Find an explicit solution for the following quadratic system of recurrence relations\n",
    "\n",
    "\n",
    "\\begin{align*}\n",
    "&\\scriptsize a_n &\\scriptsize =\\scriptsize \\phantom{⋅}1 &\\scriptsize 4a_{n-1}^2&\\scriptsize -\\phantom{0} \\scriptsize 1&\\scriptsize 8a_{n-1}b_{n-1}&\\scriptsize + \\scriptsize\\phantom{0} &\\scriptsize 0&\\scriptsize + \\scriptsize\\phantom{0} \\scriptsize 2&\\scriptsize 7a_{n-1}d_{n-1}&\\scriptsize -\\phantom{0} 1&\\scriptsize 8b_{n-1}c_{n-1}&\\scriptsize -\\phantom{0}\\scriptsize 4&\\scriptsize 5b_{n-1}d_{n-1}&\\scriptsize -\\phantom{0}\\scriptsize 1&\\scriptsize 4c_{n-1}^2&\\scriptsize -\\phantom{0}\\scriptsize 4&\\scriptsize 3c_{n-1}d_{n-1}&\\scriptsize -\\phantom{0}&\\scriptsize 20d_{n-1}^2\\\\\n",
    "\n",
    "&\\scriptsize b_n &\\scriptsize =\\scriptsize\\phantom{-} &\\scriptsize 8a_{n-1}^2&\\scriptsize -\\phantom{0} \\scriptsize \\phantom{0} &\\scriptsize 8a_{n-1}b_{n-1}&\\scriptsize + \\scriptsize\\phantom{0} &\\scriptsize 2a_{n-1}c_{n-1}&\\scriptsize +\\scriptsize\\phantom{0} \\scriptsize 2&\\scriptsize 0a_{n-1}d_{n-1}&\\scriptsize -\\phantom{00}&\\scriptsize 8b_{n-1}c_{n-1} &\\scriptsize -\\scriptsize\\phantom{0} 2&\\scriptsize 0b_{n-1}d_{n-1}&\\scriptsize -\\phantom{00}&\\scriptsize 6c_{n-1}^2&\\scriptsize -\\phantom{0}\\scriptsize 1&\\scriptsize 5c_{n-1}d_{n-1}&\\scriptsize +\\phantom{0}&\\scriptsize \\phantom{0}0\\\\\n",
    "\n",
    "&\\scriptsize c_n &\\scriptsize =\\scriptsize\\phantom{-} &\\scriptsize 8a_{n-1}^2&\\scriptsize -\\phantom{0} \\scriptsize 1&\\scriptsize 2a_{n-1}b_{n-1}&\\scriptsize + \\scriptsize\\phantom{0} &\\scriptsize 4a_{n-1}c_{n-1}&\\scriptsize +\\scriptsize\\phantom{0} \\scriptsize 1&\\scriptsize 8a_{n-1}d_{n-1}&\\scriptsize -\\phantom{0} 1&\\scriptsize 2b_{n-1}c_{n-1}&\\scriptsize -\\phantom{0}\\scriptsize 3&\\scriptsize 0b_{n-1}d_{n-1}&\\scriptsize -\\phantom{00}&\\scriptsize 4c_{n-1}^2&\\scriptsize -\\phantom{0}\\scriptsize 1&\\scriptsize 2c_{n-1}d_{n-1}&\\scriptsize -\\phantom{0}&\\scriptsize \\phantom{0}5d_{n-1}^2\\\\\n",
    "\n",
    "&\\scriptsize d_n &\\scriptsize =\\scriptsize - &\\scriptsize 8a_{n-1}^2&\\scriptsize +\\phantom{0} \\scriptsize 1&\\scriptsize 2a_{n-1}b_{n-1}&\\scriptsize + \\scriptsize\\phantom{0} &\\scriptsize 0&\\scriptsize -\\scriptsize\\phantom{0} \\scriptsize 1&\\scriptsize 4a_{n-1}d_{n-1}&\\scriptsize +\\phantom{0} 1&\\scriptsize 2b_{n-1}c_{n-1}&\\scriptsize +\\phantom{0}\\scriptsize 3&\\scriptsize 0b_{n-1}d_{n-1}&\\scriptsize +\\phantom{00}&\\scriptsize 8c_{n-1}^2&\\scriptsize +\\phantom{0}\\scriptsize 2&\\scriptsize 6c_{n-1}d_{n-1}&\\scriptsize +\\phantom{0}&\\scriptsize 15d_{n-1}^2\\\\\n",
    "\\end{align*}\n",
    "\n",
    "\n",
    "\n",
    "where $a_0 = 1, b_0 = 2, c_0 = 3, d_0 = 4$."
   ]
  }
 ],
 "metadata": {
  "kernelspec": {
   "display_name": "Python 3",
   "language": "python",
   "name": "python3"
  },
  "language_info": {
   "codemirror_mode": {
    "name": "ipython",
    "version": 3
   },
   "file_extension": ".py",
   "mimetype": "text/x-python",
   "name": "python",
   "nbconvert_exporter": "python",
   "pygments_lexer": "ipython3",
   "version": "3.12.3"
  }
 },
 "nbformat": 4,
 "nbformat_minor": 5
}
