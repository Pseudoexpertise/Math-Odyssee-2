{
 "cells": [
  {
   "cell_type": "markdown",
   "id": "f83f0605",
   "metadata": {},
   "source": [
    "# <h1 style=\"text-align: center\">Slender Maps</h1>"
   ]
  },
  {
   "cell_type": "markdown",
   "id": "c626f3b3",
   "metadata": {},
   "source": [
    "Find an explicit solution for the following quadratic system of recurrence relations\n",
    "\n",
    "\\begin{align*}\n",
    "\\tiny a_n &= &14a_{n-1}^2 &- 1&8a_{n-1}b_{n-1} &+ &0 &+ 2&7a_{n-1}d_{n-1} &- 1&8b_{n-1}c_{n-1} &- 4&5b_{n-1}d_{n-1} &- 1&4c_{n-1}^2 &- 4&3c_{n-1}d_{n-1} &- 2&0d_{n-1}^2\\\\\n",
    "\\tiny b_n &= &8a_{n-1}^2 &- &8a_{n-1}b_{n-1} &+ &2a_{n-1}c_{n-1} &+ 2&0a_{n-1}d_{n-1} &- &8b_{n-1}c_{n-1} &- 2&0b_{n-1}d_{n-1} &- &6c_{n-1}^2 &- 1&5c_{n-1}d_{n-1} &+ &0\\\\\n",
    "\\tiny c_n &= &8a_{n-1}^2 &- 1&2a_{n-1}b_{n-1} &+ &4a_{n-1}c_{n-1} &+ 1&8a_{n-1}d_{n-1} &- 1&2b_{n-1}c_{n-1} &- 3&0b_{n-1}d_{n-1} &- &4c_{n-1}^2 &- 1&2c_{n-1}d_{n-1} &- &5d_{n-1}^2\\\\\n",
    "\\tiny d_n &= -&8a_{n-1}^2 &+ 1&2a_{n-1}b_{n-1} &+ &0 &- 1&4a_{n-1}d_{n-1} &+ 1&2b_{n-1}c_{n-1} &+ 3&0b_{n-1}d_{n-1} &+ &8c_{n-1}^2 &+ 2&6c_{n-1}d_{n-1} &+ 1&5d_{n-1}^2\\\\\n",
    "\\end{align*}\n",
    "\n",
    "where $a_0 = 1, b_0 = 2, c_0 = 3, d_0 = 4$."
   ]
  }
 ],
 "metadata": {
  "language_info": {
   "name": "python"
  }
 },
 "nbformat": 4,
 "nbformat_minor": 5
}
