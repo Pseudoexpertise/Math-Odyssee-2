{
 "cells": [
  {
   "cell_type": "markdown",
   "id": "f83f0605",
   "metadata": {},
   "source": [
    "# <h1 style=\"text-align: center\">Slender Maps</h1>"
   ]
  },
  {
   "cell_type": "markdown",
   "id": "10c1c8c4",
   "metadata": {},
   "source": [
    "Find an explicit solution for the following quadratic system of recurrence relations\n",
    "\n",
    "\n",
    "\\begin{align*}\n",
    "&\\footnotesize a_n &\\footnotesize =\\phantom{⋅}1 &\\footnotesize 4a_{n-1}^2&\\footnotesize -\\phantom{0}1&\\footnotesize 8a_{n-1}b_{n-1}&\\footnotesize +\\phantom{0} &\\footnotesize 0&\\footnotesize +\\phantom{0}2&\\footnotesize 7a_{n-1}d_{n-1}&\\footnotesize -\\phantom{0}1&\\footnotesize 8b_{n-1}c_{n-1}&\\footnotesize -\\phantom{0}4&\\footnotesize 5b_{n-1}d_{n-1}&\\footnotesize -\\phantom{0}1&\\footnotesize 4c_{n-1}^2&\\footnotesize -\\phantom{0}4&\\footnotesize 3c_{n-1}d_{n-1}&\\footnotesize -\\phantom{0}&\\footnotesize 20d_{n-1}^2\\\\\n",
    "\n",
    "&\\footnotesize b_n &\\footnotesize =\\phantom{-} &\\footnotesize 8a_{n-1}^2&\\footnotesize -\\phantom{00} &\\footnotesize 8a_{n-1}b_{n-1}&\\footnotesize +\\phantom{0} &\\footnotesize 2a_{n-1}c_{n-1}&\\footnotesize +\\phantom{0} 2&\\footnotesize 0a_{n-1}d_{n-1}&\\footnotesize -\\phantom{00}&\\footnotesize 8b_{n-1}c_{n-1} &\\footnotesize -\\phantom{0} 2&\\footnotesize 0b_{n-1}d_{n-1}&\\footnotesize -\\phantom{00}&\\footnotesize 6c_{n-1}^2&\\footnotesize -\\phantom{0} 1&\\footnotesize 5c_{n-1}d_{n-1}&\\footnotesize +\\phantom{0}&\\footnotesize \\phantom{0}0\\\\\n",
    "\n",
    "&\\footnotesize c_n &\\footnotesize =\\phantom{-} &\\footnotesize 8a_{n-1}^2&\\footnotesize -\\phantom{0} 1&\\footnotesize 2a_{n-1}b_{n-1}&\\footnotesize +\\phantom{0} &\\footnotesize 4a_{n-1}c_{n-1}&\\footnotesize +\\phantom{0} 1&\\footnotesize 8a_{n-1}d_{n-1}&\\footnotesize -\\phantom{0} 1&\\footnotesize 2b_{n-1}c_{n-1}&\\footnotesize -\\phantom{0} 3&\\footnotesize 0b_{n-1}d_{n-1}&\\footnotesize -\\phantom{00}&\\footnotesize 4c_{n-1}^2&\\footnotesize -\\phantom{0} 1&\\footnotesize 2c_{n-1}d_{n-1}&\\footnotesize -\\phantom{0}&\\footnotesize \\phantom{0}5d_{n-1}^2\\\\\n",
    "\n",
    "&\\footnotesize d_n &\\footnotesize = - &\\footnotesize 8a_{n-1}^2&\\footnotesize +\\phantom{0} 1&\\footnotesize 2a_{n-1}b_{n-1}&\\footnotesize +\\phantom{0} &\\footnotesize 0&\\footnotesize -\\phantom{0} 1&\\footnotesize 4a_{n-1}d_{n-1}&\\footnotesize +\\phantom{0} 1&\\footnotesize 2b_{n-1}c_{n-1}&\\footnotesize +\\phantom{0} 3&\\footnotesize 0b_{n-1}d_{n-1}&\\footnotesize +\\phantom{00}&\\footnotesize 8c_{n-1}^2&\\footnotesize +\\phantom{0} 2&\\footnotesize 6c_{n-1}d_{n-1}&\\footnotesize +\\phantom{0}&\\footnotesize 15d_{n-1}^2\\\\\n",
    "\\end{align*}\n",
    "\n",
    "\n",
    "\n",
    "where $a_0 = 1, b_0 = 2, c_0 = 3, d_0 = 4$."
   ]
  }
 ],
 "metadata": {
  "kernelspec": {
   "display_name": "Python 3",
   "language": "python",
   "name": "python3"
  },
  "language_info": {
   "codemirror_mode": {
    "name": "ipython",
    "version": 3
   },
   "file_extension": ".py",
   "mimetype": "text/x-python",
   "name": "python",
   "nbconvert_exporter": "python",
   "pygments_lexer": "ipython3",
   "version": "3.12.3"
  }
 },
 "nbformat": 4,
 "nbformat_minor": 5
}
