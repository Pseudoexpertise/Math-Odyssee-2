{
 "cells": [
  {
   "cell_type": "markdown",
   "id": "f83f0605",
   "metadata": {},
   "source": [
    "# <h1 style=\"text-align: center\">Slender Maps</h1>"
   ]
  },
  {
   "cell_type": "markdown",
   "id": "10c1c8c4",
   "metadata": {},
   "source": [
    "Find an explicit solution for the following quadratic system of recurrence relations\n",
    "\n",
    "\n",
    "\\begin{align*}\n",
    "&\\small a_n &\\small =\\phantom{⋅}1 &\\small 4a_{n-1}^2&\\small -\\phantom{0}1&\\small 8a_{n-1}b_{n-1}&\\small +\\phantom{0} &\\small 0&\\small +\\phantom{0}2&\\small 7a_{n-1}d_{n-1}&\\small -\\phantom{0}1&\\small 8b_{n-1}c_{n-1}&\\small -\\phantom{0}4&\\small 5b_{n-1}d_{n-1}&\\small -\\phantom{0}1&\\small 4c_{n-1}^2&\\small -\\phantom{0}4&\\small 3c_{n-1}d_{n-1}&\\small -\\phantom{0}&\\small 20d_{n-1}^2\\\\\n",
    "\n",
    "&\\small b_n &\\small =\\phantom{-} &\\small 8a_{n-1}^2&\\small -\\phantom{00} &\\small 8a_{n-1}b_{n-1}&\\small +\\phantom{0} &\\small 2a_{n-1}c_{n-1}&\\small +\\phantom{0} 2&\\small 0a_{n-1}d_{n-1}&\\small -\\phantom{00}&\\small 8b_{n-1}c_{n-1} &\\small -\\phantom{0} 2&\\small 0b_{n-1}d_{n-1}&\\small -\\phantom{00}&\\small 6c_{n-1}^2&\\small -\\phantom{0} 1&\\small 5c_{n-1}d_{n-1}&\\small +\\phantom{0}&\\small \\phantom{0}0\\\\\n",
    "\n",
    "&\\small c_n &\\small =\\phantom{-} &\\small 8a_{n-1}^2&\\small -\\phantom{0} 1&\\small 2a_{n-1}b_{n-1}&\\small +\\phantom{0} &\\small 4a_{n-1}c_{n-1}&\\small +\\phantom{0} 1&\\small 8a_{n-1}d_{n-1}&\\small -\\phantom{0} 1&\\small 2b_{n-1}c_{n-1}&\\small -\\phantom{0} 3&\\small 0b_{n-1}d_{n-1}&\\small -\\phantom{00}&\\small 4c_{n-1}^2&\\small -\\phantom{0} 1&\\small 2c_{n-1}d_{n-1}&\\small -\\phantom{0}&\\small \\phantom{0}5d_{n-1}^2\\\\\n",
    "\n",
    "&\\small d_n &\\small = - &\\small 8a_{n-1}^2&\\small +\\phantom{0} 1&\\small 2a_{n-1}b_{n-1}&\\small +\\phantom{0} &\\small 0&\\small -\\phantom{0} 1&\\small 4a_{n-1}d_{n-1}&\\small +\\phantom{0} 1&\\small 2b_{n-1}c_{n-1}&\\small +\\phantom{0} 3&\\small 0b_{n-1}d_{n-1}&\\small +\\phantom{00}&\\small 8c_{n-1}^2&\\small +\\phantom{0} 2&\\small 6c_{n-1}d_{n-1}&\\small +\\phantom{0}&\\small 15d_{n-1}^2\\\\\n",
    "\\end{align*}\n",
    "\n",
    "\n",
    "\n",
    "where $a_0 = 1, b_0 = 2, c_0 = 3, d_0 = 4$."
   ]
  }
 ],
 "metadata": {
  "kernelspec": {
   "display_name": "Python 3",
   "language": "python",
   "name": "python3"
  },
  "language_info": {
   "codemirror_mode": {
    "name": "ipython",
    "version": 3
   },
   "file_extension": ".py",
   "mimetype": "text/x-python",
   "name": "python",
   "nbconvert_exporter": "python",
   "pygments_lexer": "ipython3",
   "version": "3.12.3"
  }
 },
 "nbformat": 4,
 "nbformat_minor": 5
}
