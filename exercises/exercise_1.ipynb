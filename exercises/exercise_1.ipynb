{
 "cells": [
  {
   "cell_type": "markdown",
   "id": "76f35cf3",
   "metadata": {},
   "source": [
    "# <h1 style=\"text-align: center\">Sussy Donbassy</h1>"
   ]
  },
  {
   "cell_type": "markdown",
   "id": "4b9acfae",
   "metadata": {},
   "source": [
    "Imagine you are a student from Jassynuwata and overheard your classmates Pasha and Sergiy talking about something that seems suspicious.\\\n",
    "You decided to spy on them and figured out they will be using an image board as a mean of communication and that they have written an encryption program to keep things secret.\\\n",
    "You weren't able to get close enough to them to understand them without being seen. But they were discussing on how to make their encryption safe.\\\n",
    "The only thing you picked up for sure was the sentence \"five is enough\".\\\n",
    "Luckily, you found their image board with the encrypted messages.\\\n",
    "You extracted the messages into [this text file](../assets/ciphers.txt) and separated the messages from another by three line breaks each.\\\n",
    "Analyze these ciphers for possible encryptions Pasha and Sergiy have used and figure out their encryption method. Give a probability theoretic justification for your guess and decrypt the messages afterward."
   ]
  }
 ],
 "metadata": {
  "language_info": {
   "name": "python"
  }
 },
 "nbformat": 4,
 "nbformat_minor": 5
}
