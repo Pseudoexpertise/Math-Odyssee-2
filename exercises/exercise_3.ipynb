{
 "cells": [
  {
   "cell_type": "markdown",
   "id": "d7fa134d",
   "metadata": {},
   "source": [
    "# <h1 style=\"text-align: center\">Dieter's Boost</h1>"
   ]
  },
  {
   "cell_type": "markdown",
   "id": "f4c98dbe",
   "metadata": {},
   "source": [
    "Find a particular solution for the following system of functional differential equations:\n",
    "\n",
    "\\begin{align*}\n",
    "f''(x)f(x) + f'(x)^\\top f'(x) &= f''(2x)\\\\\n",
    "f''(x)f(x) - f'(x)^\\top f'(x) &= \\begin{pmatrix}\n",
    "4 & -2 & 6\\\\\n",
    "-2 & 1 & -3\\\\\n",
    "6 & -3 & 9\n",
    "\\end{pmatrix}\\\\\n",
    "\\frac{f''(x)}{f(x)} &= \\frac{f'(x)^\\top f'(x)}{f^2(x) - 1}\n",
    "\\end{align*}\n",
    "\n",
    "Once you have found a particular solution, find a reasonably large class of solutions that satisfy that system of equations."
   ]
  }
 ],
 "metadata": {
  "language_info": {
   "name": "python"
  }
 },
 "nbformat": 4,
 "nbformat_minor": 5
}
