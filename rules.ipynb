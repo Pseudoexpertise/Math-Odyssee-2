{
 "cells": [
  {
   "cell_type": "markdown",
   "id": "5cc960cf",
   "metadata": {},
   "source": [
    "<h1 style=\"text-align: center; margin-bottom: 0\">Rules</h1>\n",
    "<hr>"
   ]
  },
  {
   "cell_type": "markdown",
   "id": "d18044bb",
   "metadata": {},
   "source": [
    "### Permitted Tools\n",
    "\n",
    "Everything is allowed as long as it's your group's work. In the end, you as a group must be familiar with your own project.\\\n",
    "For those that succeed enough points to win a prize, their submission's authenticity will be verified by an oral exam of their, so claimed, own work.\\\n",
    "Only the ones that pass the exam will win the prize.\\\n",
    "With one or two days of preparation, the oral exam is not meant to be difficult, given that it is entirely your group's work and you did not do plagiarism."
   ]
  },
  {
   "cell_type": "markdown",
   "id": "d48e28cc",
   "metadata": {},
   "source": [
    "### Citations\n",
    "\n",
    "In the case of **plagiarism**, the entire submission is considered as invalid.\\\n",
    "This includes (but not exclusively):\n",
    "- Copying and pasting from books, papers or websites without declaring it as a citation\n",
    "- Using a solution approach/method that you have found in a book, video or forum without mentioning its origin\n",
    "- Paraphrasing someone else's core idea\n",
    "\n",
    "For a **book** your citation must include:\n",
    "- Author\n",
    "- Title\n",
    "- Publisher\n",
    "- Year\n",
    "- Page\n",
    "\n",
    "For a **website**, if the DOI exists, your citation only requires the DOI.\n",
    "If no DOI exists, it requires a:\n",
    " - URL\n",
    " - Date of visitation\n",
    "\n",
    "If providable, for an **AI prompt**, your citation must include the URL that leads to the conversation and the date you visited it.\\\n",
    "If such a URL cannot be provided, you have to include the:\n",
    "- Exact model of the AI\n",
    "- Date\n",
    "- External link to a file or place in a file that contains the entire prompt history\n",
    "\n",
    "You could, for instance, put the copied and pasted history in the attachment part.\n",
    "\n",
    "A **video** reference requires listing:\n",
    "- Channel or Creator\n",
    "- Title\n",
    "- URL\n",
    "- Timestamp\n",
    "- Date of Visitation\n",
    "\n",
    "**Graphics, pictures, diagrams** and similar media must include a link to their source.\\\n",
    "The **bibliography** must include all your references and all your references must be included in your bibliography.\n",
    "\n",
    "Well known mathematical results from reliable sources do not require proof, but citation.\\\n",
    "Mathematical results from non-reliable sources require proof and citation.\\\n",
    "Your own mathematical results do not require citation. But a proof alone is not sufficient. It is mandatory to provide a derivation too.\n",
    "As long as after the derivation follows a proof of said statement, the derivation itself does not need to be a proof if it is the evidence that justifies to try to prove said result. In that case, also empirical arguments can be valid.\n",
    "\n",
    "Anything you had to look up requires citation.\\\n",
    "When you do a proof analogously to something you have found in the literature, mention the source you got your idea for the proof from."
   ]
  },
  {
   "cell_type": "markdown",
   "id": "ed2bbd4d",
   "metadata": {},
   "source": [
    "### Ambiguity\n",
    "\n",
    "The exercises are meant to be open ended and slightly vague. In the case of ambiguity, if assumptions are need to be made, justify them by their applicability and connection to the model.\\\n",
    "For a an optimal submission, your solutions are meant to be correct, verifiable, traceable and applicable.\\\n",
    "Computing the solution given by the form you provided shall not require more computational complexity than necessary or plausible."
   ]
  },
  {
   "cell_type": "markdown",
   "id": "4227ab64",
   "metadata": {},
   "source": [
    "### Correct Submission\n",
    "\n",
    "Your solution must be sent to [this repository](https://github.com/Pseudoexpertise/Math-Odyssee-2/tree/main) as an .ipynb file until the 1st of September 2025.\\\n",
    "Submissions with the wrong file extension and those that came after 09.01.2025 will not be valid!"
   ]
  }
 ],
 "metadata": {
  "language_info": {
   "name": "python"
  }
 },
 "nbformat": 4,
 "nbformat_minor": 5
}
