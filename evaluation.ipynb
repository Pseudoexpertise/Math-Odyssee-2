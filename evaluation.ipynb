{
 "cells": [
  {
   "cell_type": "markdown",
   "id": "b46b653a",
   "metadata": {},
   "source": [
    "# <h1 style=\"text-align: center\">Evaluation</h1>"
   ]
  },
  {
   "cell_type": "markdown",
   "id": "50d7c2fe",
   "metadata": {},
   "source": [
    "### Slender Map\n",
    "\n",
    "- Finding a working method:&nbsp;&nbsp;&nbsp;&nbsp;&nbsp;&nbsp;&nbsp;&nbsp;20\n",
    "- Sorving with working method:&nbsp;&nbsp;&nbsp;&nbsp;20\n",
    "- Finding a good representation:&nbsp;&nbsp;&nbsp;&nbsp;20\n",
    "- Clean work:&nbsp;&nbsp;&nbsp;&nbsp;&nbsp;&nbsp;&nbsp;&nbsp;&nbsp;&nbsp;&nbsp;&nbsp;&nbsp;&nbsp;&nbsp;&nbsp;&nbsp;&nbsp;&nbsp;&nbsp;&nbsp;&nbsp;&nbsp;&nbsp;&nbsp;&nbsp;&nbsp;&nbsp;&nbsp;&nbsp;&nbsp;&nbsp;40"
   ]
  }
 ],
 "metadata": {
  "language_info": {
   "name": "python"
  }
 },
 "nbformat": 4,
 "nbformat_minor": 5
}
