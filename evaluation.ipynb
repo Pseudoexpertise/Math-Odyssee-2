{
 "cells": [
  {
   "cell_type": "markdown",
   "id": "d74d488f",
   "metadata": {},
   "source": [
    "# <h1 style=\"text-align: center\">Evaluation</h1>"
   ]
  },
  {
   "cell_type": "markdown",
   "id": "30e107e1",
   "metadata": {},
   "source": [
    "### Slender Maps\n",
    "\n",
    "- finding a working method:&nbsp;&nbsp;&nbsp;&nbsp;&nbsp;&nbsp;&nbsp;&nbsp;20\n",
    "- sorving with working method:&nbsp;&nbsp;&nbsp;&nbsp;20\n",
    "- finding good representation:&nbsp;&nbsp;&nbsp;&nbsp;20\n",
    "- Clean work:&nbsp;&nbsp;&nbsp;&nbsp;&nbsp;&nbsp;&nbsp;&nbsp;&nbsp;&nbsp;&nbsp;&nbsp;&nbsp;&nbsp;&nbsp;&nbsp;&nbsp;&nbsp;&nbsp;&nbsp;&nbsp;&nbsp;&nbsp;&nbsp;&nbsp;&nbsp;&nbsp;&nbsp;&nbsp;&nbsp;&nbsp;&nbsp;40"
   ]
  }
 ],
 "metadata": {
  "language_info": {
   "name": "python"
  }
 },
 "nbformat": 4,
 "nbformat_minor": 5
}
