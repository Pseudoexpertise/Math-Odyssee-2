{
 "cells": [
  {
   "cell_type": "markdown",
   "id": "d7fa134d",
   "metadata": {},
   "source": [
    "# <h1 style=\"text-align: center\">Ring Glider</h1>"
   ]
  },
  {
   "cell_type": "markdown",
   "id": "f4c98dbe",
   "metadata": {},
   "source": [
    "Assume we have the year 3025 and the world has discovered that worm holes are actually safe (officially) and that their gravitational force is exactly equal to the force of a torus."
   ]
  },
  {
   "cell_type": "markdown",
   "id": "75579370",
   "metadata": {},
   "source": []
  }
 ],
 "metadata": {
  "language_info": {
   "name": "python"
  }
 },
 "nbformat": 4,
 "nbformat_minor": 5
}
