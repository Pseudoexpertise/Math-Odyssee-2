{
 "cells": [
  {
   "cell_type": "markdown",
   "id": "d7fa134d",
   "metadata": {},
   "source": [
    "# <h1 style=\"text-align: center\">Ring Glider</h1>"
   ]
  },
  {
   "cell_type": "markdown",
   "id": "f4c98dbe",
   "metadata": {},
   "source": [
    "Assume we have the year 3025 and the world has finally mastered worm hole travel.\n",
    "We have made the following discoveries so far:\n",
    "- Worm holes are shaped like spheres\n",
    "- Their gravitational force is exactly that of a torus whose inner touches the sphere\n",
    "- If, when reaching the worm hole, the direction you travel is not exactly (five dergee tolerance) perpendicular to the largest circle that fits in the torus, everyone in the ship will die for some reason"
   ]
  }
 ],
 "metadata": {
  "language_info": {
   "name": "python"
  }
 },
 "nbformat": 4,
 "nbformat_minor": 5
}
